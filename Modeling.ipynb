{
 "cells": [
  {
   "cell_type": "markdown",
   "source": [
    "### linear regression 사용해서 예측하기 "
   ],
   "metadata": {
    "collapsed": false
   },
   "id": "1f1bf08bd1e9ef33"
  },
  {
   "cell_type": "code",
   "outputs": [],
   "source": [
    "from sklearn.model_selection import train_test_split\n",
    "import pandas as pd \n",
    "import numpy as np\n",
    "from tqdm import tqdm"
   ],
   "metadata": {
    "collapsed": false,
    "ExecuteTime": {
     "end_time": "2024-02-12T10:51:04.121995Z",
     "start_time": "2024-02-12T10:51:03.463898Z"
    }
   },
   "id": "f669df6bd4733d51",
   "execution_count": 1
  },
  {
   "cell_type": "code",
   "outputs": [],
   "source": [
    "data = pd.read_csv(\"data/google_embedding_data.csv\")"
   ],
   "metadata": {
    "collapsed": false,
    "ExecuteTime": {
     "end_time": "2024-02-12T10:51:04.553355Z",
     "start_time": "2024-02-12T10:51:04.122799Z"
    }
   },
   "id": "125e9f8ca4fe27bf",
   "execution_count": 2
  },
  {
   "cell_type": "code",
   "outputs": [
    {
     "data": {
      "text/plain": "      Unnamed: 0 Category                                            Message  \\\n0              0      ham  Go until jurong point, crazy.. Available only ...   \n1              1      ham                      Ok lar... Joking wif u oni...   \n2              2     spam  Free entry in 2 a wkly comp to win FA Cup fina...   \n3              3      ham  U dun say so early hor... U c already then say...   \n4              4      ham  Nah I don't think he goes to usf, he lives aro...   \n...          ...      ...                                                ...   \n5555        5567     spam  This is the 2nd time we have tried 2 contact u...   \n5556        5568      ham               Will ü b going to esplanade fr home?   \n5557        5569      ham  Pity, * was in mood for that. So...any other s...   \n5558        5570      ham  The guy did some bitching but I acted like i'd...   \n5559        5571      ham                         Rofl. Its true to its name   \n\n                                          clean_message  encode_category  \\\n0     go jurong point crazy available bugis great wo...                0   \n1                                 ok lar joking wif oni                0   \n2     free entry wkly comp win fa cup final tkts 21s...                1   \n3                         dun say early hor already say                0   \n4                nah think goes usf lives around though                0   \n...                                                 ...              ...   \n5555  2nd time tried contact £750 pound prize claim ...                1   \n5556                            going esplanade fr home                0   \n5557                              pity mood suggestions                0   \n5558  guy bitching acted like interested buying some...                0   \n5559                                     rofl true name                0   \n\n                                           G_Embeddings  \n0     [0.028807206, -0.03621563, -0.050047267, -0.04...  \n1     [0.028476495, 0.0013876868, -0.06420778, -0.01...  \n2     [0.05030803, -0.07512517, -0.042560495, -0.074...  \n3     [-0.007327647, -0.022901433, -0.024781676, -0....  \n4     [0.023844084, -0.016894948, -0.01716121, -0.06...  \n...                                                 ...  \n5555  [0.0053461296, -0.05480214, -0.055548646, -0.0...  \n5556  [0.033655215, -0.0031889905, -0.039510705, -0....  \n5557  [-0.002391516, -0.021267267, -0.046133913, -0....  \n5558  [0.012761247, -0.027776903, -0.03975404, -0.06...  \n5559  [0.014032066, -0.034427788, -0.013416442, 0.00...  \n\n[5560 rows x 6 columns]",
      "text/html": "<div>\n<style scoped>\n    .dataframe tbody tr th:only-of-type {\n        vertical-align: middle;\n    }\n\n    .dataframe tbody tr th {\n        vertical-align: top;\n    }\n\n    .dataframe thead th {\n        text-align: right;\n    }\n</style>\n<table border=\"1\" class=\"dataframe\">\n  <thead>\n    <tr style=\"text-align: right;\">\n      <th></th>\n      <th>Unnamed: 0</th>\n      <th>Category</th>\n      <th>Message</th>\n      <th>clean_message</th>\n      <th>encode_category</th>\n      <th>G_Embeddings</th>\n    </tr>\n  </thead>\n  <tbody>\n    <tr>\n      <th>0</th>\n      <td>0</td>\n      <td>ham</td>\n      <td>Go until jurong point, crazy.. Available only ...</td>\n      <td>go jurong point crazy available bugis great wo...</td>\n      <td>0</td>\n      <td>[0.028807206, -0.03621563, -0.050047267, -0.04...</td>\n    </tr>\n    <tr>\n      <th>1</th>\n      <td>1</td>\n      <td>ham</td>\n      <td>Ok lar... Joking wif u oni...</td>\n      <td>ok lar joking wif oni</td>\n      <td>0</td>\n      <td>[0.028476495, 0.0013876868, -0.06420778, -0.01...</td>\n    </tr>\n    <tr>\n      <th>2</th>\n      <td>2</td>\n      <td>spam</td>\n      <td>Free entry in 2 a wkly comp to win FA Cup fina...</td>\n      <td>free entry wkly comp win fa cup final tkts 21s...</td>\n      <td>1</td>\n      <td>[0.05030803, -0.07512517, -0.042560495, -0.074...</td>\n    </tr>\n    <tr>\n      <th>3</th>\n      <td>3</td>\n      <td>ham</td>\n      <td>U dun say so early hor... U c already then say...</td>\n      <td>dun say early hor already say</td>\n      <td>0</td>\n      <td>[-0.007327647, -0.022901433, -0.024781676, -0....</td>\n    </tr>\n    <tr>\n      <th>4</th>\n      <td>4</td>\n      <td>ham</td>\n      <td>Nah I don't think he goes to usf, he lives aro...</td>\n      <td>nah think goes usf lives around though</td>\n      <td>0</td>\n      <td>[0.023844084, -0.016894948, -0.01716121, -0.06...</td>\n    </tr>\n    <tr>\n      <th>...</th>\n      <td>...</td>\n      <td>...</td>\n      <td>...</td>\n      <td>...</td>\n      <td>...</td>\n      <td>...</td>\n    </tr>\n    <tr>\n      <th>5555</th>\n      <td>5567</td>\n      <td>spam</td>\n      <td>This is the 2nd time we have tried 2 contact u...</td>\n      <td>2nd time tried contact £750 pound prize claim ...</td>\n      <td>1</td>\n      <td>[0.0053461296, -0.05480214, -0.055548646, -0.0...</td>\n    </tr>\n    <tr>\n      <th>5556</th>\n      <td>5568</td>\n      <td>ham</td>\n      <td>Will ü b going to esplanade fr home?</td>\n      <td>going esplanade fr home</td>\n      <td>0</td>\n      <td>[0.033655215, -0.0031889905, -0.039510705, -0....</td>\n    </tr>\n    <tr>\n      <th>5557</th>\n      <td>5569</td>\n      <td>ham</td>\n      <td>Pity, * was in mood for that. So...any other s...</td>\n      <td>pity mood suggestions</td>\n      <td>0</td>\n      <td>[-0.002391516, -0.021267267, -0.046133913, -0....</td>\n    </tr>\n    <tr>\n      <th>5558</th>\n      <td>5570</td>\n      <td>ham</td>\n      <td>The guy did some bitching but I acted like i'd...</td>\n      <td>guy bitching acted like interested buying some...</td>\n      <td>0</td>\n      <td>[0.012761247, -0.027776903, -0.03975404, -0.06...</td>\n    </tr>\n    <tr>\n      <th>5559</th>\n      <td>5571</td>\n      <td>ham</td>\n      <td>Rofl. Its true to its name</td>\n      <td>rofl true name</td>\n      <td>0</td>\n      <td>[0.014032066, -0.034427788, -0.013416442, 0.00...</td>\n    </tr>\n  </tbody>\n</table>\n<p>5560 rows × 6 columns</p>\n</div>"
     },
     "execution_count": 3,
     "metadata": {},
     "output_type": "execute_result"
    }
   ],
   "source": [
    "data"
   ],
   "metadata": {
    "collapsed": false,
    "ExecuteTime": {
     "end_time": "2024-02-12T10:51:04.566504Z",
     "start_time": "2024-02-12T10:51:04.555369Z"
    }
   },
   "id": "7c64029e88260fe0",
   "execution_count": 3
  },
  {
   "cell_type": "code",
   "outputs": [
    {
     "name": "stderr",
     "output_type": "stream",
     "text": [
      "100%|██████████| 5560/5560 [00:03<00:00, 1551.90it/s]"
     ]
    },
    {
     "name": "stdout",
     "output_type": "stream",
     "text": [
      "5560\n"
     ]
    },
    {
     "name": "stderr",
     "output_type": "stream",
     "text": [
      "\n"
     ]
    }
   ],
   "source": [
    "# G_embedding 값을 하나씩 읽어서 string -> numpy ndarray로 변환\n",
    "np_embedding_data = [np.array(eval(txt)) for txt in tqdm(data['G_Embeddings'])]\n",
    "\n",
    "print(len(np_embedding_data))"
   ],
   "metadata": {
    "collapsed": false,
    "ExecuteTime": {
     "end_time": "2024-02-12T10:51:08.161354Z",
     "start_time": "2024-02-12T10:51:04.564007Z"
    }
   },
   "id": "f27df05b92eef02b",
   "execution_count": 4
  },
  {
   "cell_type": "code",
   "outputs": [
    {
     "name": "stdout",
     "output_type": "stream",
     "text": [
      "<class 'numpy.ndarray'>\n"
     ]
    }
   ],
   "source": [
    "print(type(np_embedding_data[0]))"
   ],
   "metadata": {
    "collapsed": false,
    "ExecuteTime": {
     "end_time": "2024-02-12T10:51:08.184270Z",
     "start_time": "2024-02-12T10:51:08.176291Z"
    }
   },
   "id": "45bc66ad156e861d",
   "execution_count": 5
  },
  {
   "cell_type": "code",
   "outputs": [],
   "source": [
    "X_train, X_test, y_train, y_test = train_test_split(np_embedding_data,data[\"encode_category\"],test_size=0.2,shuffle=True)"
   ],
   "metadata": {
    "collapsed": false,
    "ExecuteTime": {
     "end_time": "2024-02-12T10:51:11.179511Z",
     "start_time": "2024-02-12T10:51:11.168715Z"
    }
   },
   "id": "b67bf2bd7d340629",
   "execution_count": 6
  },
  {
   "cell_type": "code",
   "outputs": [
    {
     "name": "stdout",
     "output_type": "stream",
     "text": [
      "train 개수 :  4448\n"
     ]
    }
   ],
   "source": [
    "print(\"train 개수 : \", len(X_train))"
   ],
   "metadata": {
    "collapsed": false,
    "ExecuteTime": {
     "end_time": "2024-02-12T10:51:11.224424Z",
     "start_time": "2024-02-12T10:51:11.218171Z"
    }
   },
   "id": "a332d390ed74d78e",
   "execution_count": 7
  },
  {
   "cell_type": "code",
   "outputs": [
    {
     "name": "stdout",
     "output_type": "stream",
     "text": [
      "              precision    recall  f1-score   support\n",
      "\n",
      "           0       0.99      1.00      0.99       941\n",
      "           1       1.00      0.93      0.96       171\n",
      "\n",
      "    accuracy                           0.99      1112\n",
      "   macro avg       0.99      0.96      0.98      1112\n",
      "weighted avg       0.99      0.99      0.99      1112\n",
      "\n",
      "0.9892086330935251\n",
      "0.9636363636363636\n"
     ]
    }
   ],
   "source": [
    "from sklearn.metrics import classification_report, f1_score, accuracy_score\n",
    "from sklearn.linear_model import LogisticRegression\n",
    "\n",
    "# 이진분류라서 Logistic Regression 채택 \n",
    "lr=LogisticRegression(solver = 'liblinear', C=10, penalty = 'l2')\n",
    "lr.fit(X_train, y_train)\n",
    "\n",
    "\n",
    "y_predict = lr.predict(X_test)\n",
    "y_prob = lr.predict_proba(X_test)[:,1]\n",
    "\n",
    "print(classification_report(y_test,y_predict))\n",
    "print(accuracy_score(y_test,y_predict))\n",
    "print(f1_score(y_test,y_predict))"
   ],
   "metadata": {
    "collapsed": false,
    "ExecuteTime": {
     "end_time": "2024-02-12T10:51:22.270666Z",
     "start_time": "2024-02-12T10:51:21.929860Z"
    }
   },
   "id": "20cbedfab4c402a7",
   "execution_count": 8
  },
  {
   "cell_type": "markdown",
   "source": [
    "### Keras의 layer 를 사용해 직접 분류 모델 생성해서 예측하기\n"
   ],
   "metadata": {
    "collapsed": false
   },
   "id": "e8318138e849b92"
  },
  {
   "cell_type": "code",
   "execution_count": 9,
   "id": "initial_id",
   "metadata": {
    "collapsed": true,
    "ExecuteTime": {
     "end_time": "2024-02-12T10:51:29.290415Z",
     "start_time": "2024-02-12T10:51:26.938644Z"
    }
   },
   "outputs": [],
   "source": [
    "import tensorflow as tf\n",
    "import matplotlib.pyplot as plt\n",
    "import sklearn.metrics as skmetrics"
   ]
  },
  {
   "cell_type": "code",
   "outputs": [
    {
     "name": "stdout",
     "output_type": "stream",
     "text": [
      "<class 'pandas.core.frame.DataFrame'>\n",
      "<class 'pandas.core.series.Series'>\n"
     ]
    }
   ],
   "source": [
    "# list -> pandas Dataframe으로 변환\n",
    "df_embedding_data = pd.DataFrame(np_embedding_data)\n",
    "\n",
    "print(type(df_embedding_data))\n",
    "print(type(df_embedding_data[0]))"
   ],
   "metadata": {
    "collapsed": false,
    "ExecuteTime": {
     "end_time": "2024-02-12T10:51:29.927738Z",
     "start_time": "2024-02-12T10:51:29.342445Z"
    }
   },
   "id": "168504c145442613",
   "execution_count": 10
  },
  {
   "cell_type": "code",
   "outputs": [
    {
     "name": "stdout",
     "output_type": "stream",
     "text": [
      "<class 'pandas.core.frame.DataFrame'>\n",
      "(4448, 768)\n",
      "4448\n"
     ]
    }
   ],
   "source": [
    "df_X_train = pd.DataFrame(X_train)\n",
    "\n",
    "print(type(df_X_train))\n",
    "print(df_X_train.shape)\n",
    "print(len(df_X_train))"
   ],
   "metadata": {
    "collapsed": false,
    "ExecuteTime": {
     "end_time": "2024-02-12T10:51:33.965126Z",
     "start_time": "2024-02-12T10:51:33.462832Z"
    }
   },
   "id": "9c611768769ed154",
   "execution_count": 11
  },
  {
   "cell_type": "code",
   "outputs": [
    {
     "name": "stdout",
     "output_type": "stream",
     "text": [
      "<class 'pandas.core.frame.DataFrame'>\n",
      "(1112, 768)\n",
      "1112\n"
     ]
    }
   ],
   "source": [
    "df_X_test = pd.DataFrame(X_test)\n",
    "\n",
    "\n",
    "print(type(df_X_test))\n",
    "print(df_X_test.shape)\n",
    "print(len(df_X_test))"
   ],
   "metadata": {
    "collapsed": false,
    "ExecuteTime": {
     "end_time": "2024-02-12T10:51:38.069992Z",
     "start_time": "2024-02-12T10:51:37.965691Z"
    }
   },
   "id": "ac70f27d543308f1",
   "execution_count": 12
  },
  {
   "cell_type": "code",
   "outputs": [],
   "source": [
    "model = tf.keras.Sequential()\n",
    "model.add(tf.keras.layers.Dense(len(df_X_train)))\n",
    "model.add(tf.keras.layers.Dense(32, activation='relu'))\n",
    "model.add(tf.keras.layers.Dense(16, activation='relu'))\n",
    "model.add(tf.keras.layers.Dense(1))\n",
    "\n",
    "model.compile(optimizer='adam',\n",
    "              loss=tf.keras.losses.BinaryCrossentropy(from_logits=True),\n",
    "              metrics=['accuracy'])"
   ],
   "metadata": {
    "collapsed": false,
    "ExecuteTime": {
     "end_time": "2024-02-12T10:56:22.187413Z",
     "start_time": "2024-02-12T10:56:22.168083Z"
    }
   },
   "id": "c27edf589eb2c2df",
   "execution_count": 32
  },
  {
   "cell_type": "code",
   "outputs": [
    {
     "name": "stdout",
     "output_type": "stream",
     "text": [
      "Epoch 1/5\n",
      "112/112 [==============================] - 1s 7ms/step - loss: 0.1441 - accuracy: 0.8707 - val_loss: 0.0984 - val_accuracy: 0.8697\n",
      "Epoch 2/5\n",
      "112/112 [==============================] - 1s 6ms/step - loss: 0.0509 - accuracy: 0.9767 - val_loss: 0.0614 - val_accuracy: 0.9854\n",
      "Epoch 3/5\n",
      "112/112 [==============================] - 1s 6ms/step - loss: 0.0236 - accuracy: 0.9927 - val_loss: 0.0316 - val_accuracy: 0.9933\n",
      "Epoch 4/5\n",
      "112/112 [==============================] - 1s 6ms/step - loss: 0.0105 - accuracy: 0.9966 - val_loss: 0.0349 - val_accuracy: 0.9899\n",
      "Epoch 5/5\n",
      "112/112 [==============================] - 1s 6ms/step - loss: 0.0054 - accuracy: 0.9983 - val_loss: 0.0238 - val_accuracy: 0.9944\n"
     ]
    }
   ],
   "source": [
    "history = model.fit(x=df_X_train,y=y_train,epochs=5,verbose=1,validation_split=0.2)"
   ],
   "metadata": {
    "collapsed": false,
    "ExecuteTime": {
     "end_time": "2024-02-12T10:56:26.822056Z",
     "start_time": "2024-02-12T10:56:23.100697Z"
    }
   },
   "id": "31158fe81f150813",
   "execution_count": 33
  },
  {
   "cell_type": "code",
   "outputs": [
    {
     "name": "stdout",
     "output_type": "stream",
     "text": [
      "35/35 [==============================] - 0s 2ms/step - loss: 0.0449 - accuracy: 0.9892\n"
     ]
    },
    {
     "data": {
      "text/plain": "{'loss': 0.04491393268108368, 'accuracy': 0.9892086386680603}"
     },
     "execution_count": 34,
     "metadata": {},
     "output_type": "execute_result"
    }
   ],
   "source": [
    "model.evaluate(x=df_X_test, y=y_test, return_dict=True)"
   ],
   "metadata": {
    "collapsed": false,
    "ExecuteTime": {
     "end_time": "2024-02-12T10:56:28.641496Z",
     "start_time": "2024-02-12T10:56:28.526443Z"
    }
   },
   "id": "190deef78937b93",
   "execution_count": 34
  },
  {
   "cell_type": "code",
   "outputs": [
    {
     "data": {
      "text/plain": "<Figure size 2000x800 with 2 Axes>",
      "image/png": "[encoded data removed]"
     },
     "metadata": {},
     "output_type": "display_data"
    }
   ],
   "source": [
    "def plot_history(history):\n",
    "    \"\"\"\n",
    "      Plotting training and validation learning curves.\n",
    "  \n",
    "      Args:\n",
    "        history: model history with all the metric measures\n",
    "    \"\"\"\n",
    "    fig, (ax1, ax2) = plt.subplots(1,2)\n",
    "    fig.set_size_inches(20, 8)\n",
    "\n",
    "    # Plot loss\n",
    "    ax1.set_title('Loss')\n",
    "    ax1.plot(history.history['loss'], label = 'train')\n",
    "    ax1.plot(history.history['val_loss'], label = 'validation')\n",
    "    ax1.set_ylabel('Loss')\n",
    "\n",
    "    ax1.set_xlabel('Epoch')\n",
    "    ax1.legend(['Train', 'Validation'])\n",
    "\n",
    "    # Plot accuracy\n",
    "    ax2.set_title('Accuracy')\n",
    "    ax2.plot(history.history['accuracy'],  label = 'train')\n",
    "    ax2.plot(history.history['val_accuracy'], label = 'validation') \n",
    "    ax2.set_ylabel('Accuracy')\n",
    "    ax2.set_xlabel('Epoch')\n",
    "    ax2.legend(['Train', 'Validation'])\n",
    "\n",
    "    plt.show()\n",
    "\n",
    "plot_history(history)"
   ],
   "metadata": {
    "collapsed": false,
    "ExecuteTime": {
     "end_time": "2024-02-12T10:56:32.010351Z",
     "start_time": "2024-02-12T10:56:31.817872Z"
    }
   },
   "id": "310d1e4b7cb95f73",
   "execution_count": 35
  },
  {
   "cell_type": "code",
   "outputs": [
    {
     "name": "stdout",
     "output_type": "stream",
     "text": [
      "35/35 [==============================] - 0s 2ms/step\n"
     ]
    }
   ],
   "source": [
    "y_hat = model.predict(x=df_X_test)"
   ],
   "metadata": {
    "collapsed": false,
    "ExecuteTime": {
     "end_time": "2024-02-12T10:54:44.407218Z",
     "start_time": "2024-02-12T10:54:44.301566Z"
    }
   },
   "id": "24224b66621e8919",
   "execution_count": 27
  },
  {
   "cell_type": "markdown",
   "source": [],
   "metadata": {
    "collapsed": false
   },
   "id": "7ad236e8e7a28d43"
  },
  {
   "cell_type": "code",
   "outputs": [
    {
     "name": "stdout",
     "output_type": "stream",
     "text": [
      "Accuracy on test : 0.9865107913669064\n"
     ]
    }
   ],
   "source": [
    "count = 0 \n",
    "for answer , prediction in zip(y_test, y_hat):\n",
    "    if prediction > 0 : \n",
    "        prediction = 1\n",
    "    else: \n",
    "        prediction = 0 \n",
    "    \n",
    "    if answer == prediction: \n",
    "        count += 1\n",
    "    \n",
    "print(\"Accuracy on test : \" + str(count/len(y_test)))\n",
    "        "
   ],
   "metadata": {
    "collapsed": false,
    "ExecuteTime": {
     "end_time": "2024-02-12T10:58:07.652864Z",
     "start_time": "2024-02-12T10:58:07.639083Z"
    }
   },
   "id": "51fc62d60b26fb53",
   "execution_count": 37
  }
 ],
 "metadata": {
  "kernelspec": {
   "display_name": "Python 3",
   "language": "python",
   "name": "python3"
  },
  "language_info": {
   "codemirror_mode": {
    "name": "ipython",
    "version": 2
   },
   "file_extension": ".py",
   "mimetype": "text/x-python",
   "name": "python",
   "nbconvert_exporter": "python",
   "pygments_lexer": "ipython2",
   "version": "2.7.6"
  }
 },
 "nbformat": 4,
 "nbformat_minor": 5
}
