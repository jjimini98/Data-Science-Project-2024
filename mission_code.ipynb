{
 "cells": [
  {
   "cell_type": "markdown",
   "metadata": {},
   "source": [
    "### Spam text message classification \n",
    "##### [스팸인지 아님 그냥 햄(메일)인지 구별하기 ]\n",
    "\n",
    "- 출처 : https://www.kaggle.com/datasets/team-ai/spam-text-message-classification\n",
    "\n",
    "스팸 메일 -> Category에 spam이라고 라벨링 됨 \n",
    "\n",
    "스팸이 아닌 경우 -> Category에 ham이라고 라벨링 됨\n",
    "\n",
    "간단할 것 같아서 가져왔는데 텍스트 분류 문제였다...\n"
   ]
  },
  {
   "cell_type": "code",
   "execution_count": 1,
   "metadata": {},
   "outputs": [],
   "source": [
    "import pandas as pd"
   ]
  },
  {
   "cell_type": "code",
   "execution_count": 2,
   "metadata": {},
   "outputs": [
    {
     "data": {
      "text/html": [
       "<div>\n",
       "<style scoped>\n",
       "    .dataframe tbody tr th:only-of-type {\n",
       "        vertical-align: middle;\n",
       "    }\n",
       "\n",
       "    .dataframe tbody tr th {\n",
       "        vertical-align: top;\n",
       "    }\n",
       "\n",
       "    .dataframe thead th {\n",
       "        text-align: right;\n",
       "    }\n",
       "</style>\n",
       "<table border=\"1\" class=\"dataframe\">\n",
       "  <thead>\n",
       "    <tr style=\"text-align: right;\">\n",
       "      <th></th>\n",
       "      <th>Category</th>\n",
       "      <th>Message</th>\n",
       "    </tr>\n",
       "  </thead>\n",
       "  <tbody>\n",
       "    <tr>\n",
       "      <th>0</th>\n",
       "      <td>ham</td>\n",
       "      <td>Go until jurong point, crazy.. Available only ...</td>\n",
       "    </tr>\n",
       "    <tr>\n",
       "      <th>1</th>\n",
       "      <td>ham</td>\n",
       "      <td>Ok lar... Joking wif u oni...</td>\n",
       "    </tr>\n",
       "    <tr>\n",
       "      <th>2</th>\n",
       "      <td>spam</td>\n",
       "      <td>Free entry in 2 a wkly comp to win FA Cup fina...</td>\n",
       "    </tr>\n",
       "    <tr>\n",
       "      <th>3</th>\n",
       "      <td>ham</td>\n",
       "      <td>U dun say so early hor... U c already then say...</td>\n",
       "    </tr>\n",
       "    <tr>\n",
       "      <th>4</th>\n",
       "      <td>ham</td>\n",
       "      <td>Nah I don't think he goes to usf, he lives aro...</td>\n",
       "    </tr>\n",
       "    <tr>\n",
       "      <th>...</th>\n",
       "      <td>...</td>\n",
       "      <td>...</td>\n",
       "    </tr>\n",
       "    <tr>\n",
       "      <th>5567</th>\n",
       "      <td>spam</td>\n",
       "      <td>This is the 2nd time we have tried 2 contact u...</td>\n",
       "    </tr>\n",
       "    <tr>\n",
       "      <th>5568</th>\n",
       "      <td>ham</td>\n",
       "      <td>Will ü b going to esplanade fr home?</td>\n",
       "    </tr>\n",
       "    <tr>\n",
       "      <th>5569</th>\n",
       "      <td>ham</td>\n",
       "      <td>Pity, * was in mood for that. So...any other s...</td>\n",
       "    </tr>\n",
       "    <tr>\n",
       "      <th>5570</th>\n",
       "      <td>ham</td>\n",
       "      <td>The guy did some bitching but I acted like i'd...</td>\n",
       "    </tr>\n",
       "    <tr>\n",
       "      <th>5571</th>\n",
       "      <td>ham</td>\n",
       "      <td>Rofl. Its true to its name</td>\n",
       "    </tr>\n",
       "  </tbody>\n",
       "</table>\n",
       "<p>5572 rows × 2 columns</p>\n",
       "</div>"
      ],
      "text/plain": [
       "     Category                                            Message\n",
       "0         ham  Go until jurong point, crazy.. Available only ...\n",
       "1         ham                      Ok lar... Joking wif u oni...\n",
       "2        spam  Free entry in 2 a wkly comp to win FA Cup fina...\n",
       "3         ham  U dun say so early hor... U c already then say...\n",
       "4         ham  Nah I don't think he goes to usf, he lives aro...\n",
       "...       ...                                                ...\n",
       "5567     spam  This is the 2nd time we have tried 2 contact u...\n",
       "5568      ham               Will ü b going to esplanade fr home?\n",
       "5569      ham  Pity, * was in mood for that. So...any other s...\n",
       "5570      ham  The guy did some bitching but I acted like i'd...\n",
       "5571      ham                         Rofl. Its true to its name\n",
       "\n",
       "[5572 rows x 2 columns]"
      ]
     },
     "execution_count": 2,
     "metadata": {},
     "output_type": "execute_result"
    }
   ],
   "source": [
    "data = pd.read_csv(\"data/data.csv\")\n",
    "data"
   ]
  },
  {
   "cell_type": "code",
   "execution_count": 3,
   "metadata": {},
   "outputs": [
    {
     "name": "stdout",
     "output_type": "stream",
     "text": [
      "<class 'pandas.core.frame.DataFrame'>\n",
      "RangeIndex: 5572 entries, 0 to 5571\n",
      "Data columns (total 2 columns):\n",
      " #   Column    Non-Null Count  Dtype \n",
      "---  ------    --------------  ----- \n",
      " 0   Category  5572 non-null   object\n",
      " 1   Message   5572 non-null   object\n",
      "dtypes: object(2)\n",
      "memory usage: 87.2+ KB\n"
     ]
    }
   ],
   "source": [
    "data.info()"
   ]
  },
  {
   "cell_type": "code",
   "execution_count": 4,
   "metadata": {},
   "outputs": [],
   "source": [
    "# 메일 내용을 토큰화할 토크나이저 선택하기 -> 일단 맨 뒤 10개만 뽑아서 결과 비교해보기\n",
    "# torch 에서 기본적으로 제공하는 토크나이저(torchtext) / spaCy / NLTK "
   ]
  },
  {
   "cell_type": "code",
   "execution_count": 5,
   "metadata": {},
   "outputs": [],
   "source": [
    "from nltk.tokenize import word_tokenize\n",
    "from torchtext.data.utils import get_tokenizer\n",
    "import spacy\n",
    "# !python3 -m spacy download en_core_web_sm"
   ]
  },
  {
   "cell_type": "code",
   "execution_count": 6,
   "metadata": {},
   "outputs": [],
   "source": [
    "# 메일 내용을 가져와서 토큰화하기 \n",
    "torch_tokenizer = get_tokenizer('basic_english')\n",
    "spacy_en = spacy.load('en_core_web_sm')"
   ]
  },
  {
   "cell_type": "code",
   "execution_count": 7,
   "metadata": {},
   "outputs": [],
   "source": [
    "all_tt = [] ; all_wt = [] ; all_st = [] \n",
    "\n",
    "\n",
    "for contents in data['Message'][-11:-1]:\n",
    "    all_tt.append(torch_tokenizer(contents))\n",
    "    all_wt.append(word_tokenize(contents))\n",
    "    all_st.append(spacy_en.tokenizer(contents))\n",
    "\n",
    "    "
   ]
  },
  {
   "cell_type": "code",
   "execution_count": 8,
   "metadata": {},
   "outputs": [
    {
     "name": "stdout",
     "output_type": "stream",
     "text": [
      "[['get', 'me', 'out', 'of', 'this', 'dump', 'heap', '.', 'my', 'mom', 'decided', 'to', 'come', 'to', 'lowes', '.', 'boring', '.'], ['ok', 'lor', '.', '.', '.', 'sony', 'ericsson', 'salesman', '.', '.', '.', 'i', 'ask', 'shuhui', 'then', 'she', 'say', 'quite', 'gd', '2', 'use', 'so', 'i', 'considering', '.', '.', '.'], ['ard', '6', 'like', 'dat', 'lor', '.'], ['why', 'don', \"'\", 't', 'you', 'wait', \"'\", 'til', 'at', 'least', 'wednesday', 'to', 'see', 'if', 'you', 'get', 'your', '.'], ['huh', 'y', 'lei', '.', '.', '.'], ['reminder', 'from', 'o2', 'to', 'get', '2', '.', '50', 'pounds', 'free', 'call', 'credit', 'and', 'details', 'of', 'great', 'offers', 'pls', 'reply', '2', 'this', 'text', 'with', 'your', 'valid', 'name', ',', 'house', 'no', 'and', 'postcode'], ['this', 'is', 'the', '2nd', 'time', 'we', 'have', 'tried', '2', 'contact', 'u', '.', 'u', 'have', 'won', 'the', '£750', 'pound', 'prize', '.', '2', 'claim', 'is', 'easy', ',', 'call', '087187272008', 'now1', '!', 'only', '10p', 'per', 'minute', '.', 'bt-national-rate', '.'], ['will', 'ü', 'b', 'going', 'to', 'esplanade', 'fr', 'home', '?'], ['pity', ',', '*', 'was', 'in', 'mood', 'for', 'that', '.', 'so', '.', '.', '.', 'any', 'other', 'suggestions', '?'], ['the', 'guy', 'did', 'some', 'bitching', 'but', 'i', 'acted', 'like', 'i', \"'\", 'd', 'be', 'interested', 'in', 'buying', 'something', 'else', 'next', 'week', 'and', 'he', 'gave', 'it', 'to', 'us', 'for', 'free']]\n"
     ]
    }
   ],
   "source": [
    "print(all_tt) \n",
    "# 구두점, 특수문자는 다 빼버린다는게 단점인데 그래도 단어를 비교적 잘 나눈다고 볼 수 있다. \n",
    "# 대문자를 모두 다 소문자로 바꿔줘서 대문자/소문자로 인해 다른 단어로 처리되는 일은 없다는 것이 장점  "
   ]
  },
  {
   "cell_type": "code",
   "execution_count": 9,
   "metadata": {},
   "outputs": [
    {
     "name": "stdout",
     "output_type": "stream",
     "text": [
      "[['Get', 'me', 'out', 'of', 'this', 'dump', 'heap', '.', 'My', 'mom', 'decided', 'to', 'come', 'to', 'lowes', '.', 'BORING', '.'], ['Ok', 'lor', '...', 'Sony', 'ericsson', 'salesman', '...', 'I', 'ask', 'shuhui', 'then', 'she', 'say', 'quite', 'gd', '2', 'use', 'so', 'i', 'considering', '...'], ['Ard', '6', 'like', 'dat', 'lor', '.'], ['Why', 'do', \"n't\", 'you', 'wait', \"'til\", 'at', 'least', 'wednesday', 'to', 'see', 'if', 'you', 'get', 'your', '.'], ['Huh', 'y', 'lei', '...'], ['REMINDER', 'FROM', 'O2', ':', 'To', 'get', '2.50', 'pounds', 'free', 'call', 'credit', 'and', 'details', 'of', 'great', 'offers', 'pls', 'reply', '2', 'this', 'text', 'with', 'your', 'valid', 'name', ',', 'house', 'no', 'and', 'postcode'], ['This', 'is', 'the', '2nd', 'time', 'we', 'have', 'tried', '2', 'contact', 'u.', 'U', 'have', 'won', 'the', '£750', 'Pound', 'prize', '.', '2', 'claim', 'is', 'easy', ',', 'call', '087187272008', 'NOW1', '!', 'Only', '10p', 'per', 'minute', '.', 'BT-national-rate', '.'], ['Will', 'ü', 'b', 'going', 'to', 'esplanade', 'fr', 'home', '?'], ['Pity', ',', '*', 'was', 'in', 'mood', 'for', 'that', '.', 'So', '...', 'any', 'other', 'suggestions', '?'], ['The', 'guy', 'did', 'some', 'bitching', 'but', 'I', 'acted', 'like', 'i', \"'d\", 'be', 'interested', 'in', 'buying', 'something', 'else', 'next', 'week', 'and', 'he', 'gave', 'it', 'to', 'us', 'for', 'free']]\n"
     ]
    }
   ],
   "source": [
    "print(all_wt)"
   ]
  },
  {
   "cell_type": "code",
   "execution_count": 10,
   "metadata": {},
   "outputs": [
    {
     "name": "stdout",
     "output_type": "stream",
     "text": [
      "[Get me out of this dump heap. My mom decided to come to lowes. BORING., Ok lor... Sony ericsson salesman... I ask shuhui then she say quite gd 2 use so i considering..., Ard 6 like dat lor., Why don't you wait 'til at least wednesday to see if you get your ., Huh y lei..., REMINDER FROM O2: To get 2.50 pounds free call credit and details of great offers pls reply 2 this text with your valid name, house no and postcode, This is the 2nd time we have tried 2 contact u. U have won the £750 Pound prize. 2 claim is easy, call 087187272008 NOW1! Only 10p per minute. BT-national-rate., Will ü b going to esplanade fr home?, Pity, * was in mood for that. So...any other suggestions?, The guy did some bitching but I acted like i'd be interested in buying something else next week and he gave it to us for free]\n"
     ]
    }
   ],
   "source": [
    "print(all_st) # 토크나이징이 된건지 모르겠네 ; "
   ]
  },
  {
   "cell_type": "markdown",
   "metadata": {},
   "source": [
    "[의견]\n",
    "\n",
    "스팸인지 그냥 햄(메일)인지 구별하기 위해서 구두점이 중요한 역할을 하는지 생각해볼 필요가 있다.\n",
    "\n",
    "대화체처럼 구두점이 중요한 역할을 한다면, 구두점 자체를 살려서 가져갈 필요가 있지만 우린 스팸인지 햄인지 구별하는거라 구두점이 의미가 있는지가 궁금함\n",
    "\n",
    "우리가 평소에 받는 스팸 메일의 경우의 특징을 생각해보자.\n",
    "\n",
    "내 스팸 메일함을 살펴보면 -> 최저가 , 부업, 법률상담, 할인, 이벤트, 창업, 소득 등 특정 단어가 들어감. \n",
    "\n",
    "내가 사용하는 데이터에도 이렇게 스팸 메일이라고 분류할만한 단어가 있는지, 확인해보자. "
   ]
  },
  {
   "cell_type": "code",
   "execution_count": 16,
   "metadata": {},
   "outputs": [
    {
     "name": "stdout",
     "output_type": "stream",
     "text": [
      "spam 메일 개수 (전체 데이터 : 5572개) :  747\n",
      "전체 메일 중 스팸 메일의 비율 :  13.406317300789663\n"
     ]
    }
   ],
   "source": [
    "spam_contents = data[data['Category'] == \"spam\"]['Message']\n",
    "\n",
    "print(\"spam 메일 개수 (전체 데이터 : 5572개) : \", len(spam_contents))\n",
    "print(\"전체 메일 중 스팸 메일의 비율 : \", (len(spam_contents) / len(data)) *100)"
   ]
  },
  {
   "cell_type": "code",
   "execution_count": 18,
   "metadata": {},
   "outputs": [
    {
     "name": "stdout",
     "output_type": "stream",
     "text": [
      "Free entry in 2 a wkly comp to win FA Cup final tkts 21st May 2005. Text FA to 87121 to receive entry question(std txt rate)T&C's apply 08452810075over18's\n",
      "FreeMsg Hey there darling it's been 3 week's now and no word back! I'd like some fun you up for it still? Tb ok! XxX std chgs to send, £1.50 to rcv\n",
      "WINNER!! As a valued network customer you have been selected to receivea £900 prize reward! To claim call 09061701461. Claim code KL341. Valid 12 hours only.\n",
      "Had your mobile 11 months or more? U R entitled to Update to the latest colour mobiles with camera for Free! Call The Mobile Update Co FREE on 08002986030\n",
      "SIX chances to win CASH! From 100 to 20,000 pounds txt> CSH11 and send to 87575. Cost 150p/day, 6days, 16+ TsandCs apply Reply HL 4 info\n",
      "URGENT! You have won a 1 week FREE membership in our £100,000 Prize Jackpot! Txt the word: CLAIM to No: 81010 T&C www.dbuk.net LCCLTD POBOX 4403LDNW1A7RW18\n",
      "XXXMobileMovieClub: To use your credit, click the WAP link in the next txt message or click here>> http://wap. xxxmobilemovieclub.com?n=QJKGIGHJJGCBL\n",
      "England v Macedonia - dont miss the goals/team news. Txt ur national team to 87077 eg ENGLAND to 87077 Try:WALES, SCOTLAND 4txt/ú1.20 POBOXox36504W45WQ 16+\n",
      "Thanks for your subscription to Ringtone UK your mobile will be charged £5/month Please confirm by replying YES or NO. If you reply NO you will not be charged\n",
      "07732584351 - Rodger Burns - MSG = We tried to call you re your reply to our sms for a free nokia mobile + free camcorder. Please call now 08000930705 for delivery tomorrow\n",
      "SMS. ac Sptv: The New Jersey Devils and the Detroit Red Wings play Ice Hockey. Correct or Incorrect? End? Reply END SPTV\n",
      "Congrats! 1 year special cinema pass for 2 is yours. call 09061209465 now! C Suprman V, Matrix3, StarWars3, etc all 4 FREE! bx420-ip4-5we. 150pm. Dont miss out!\n",
      "As a valued customer, I am pleased to advise you that following recent review of your Mob No. you are awarded with a £1500 Bonus Prize, call 09066364589\n",
      "Urgent UR awarded a complimentary trip to EuroDisinc Trav, Aco&Entry41 Or £1000. To claim txt DIS to 87121 18+6*£1.50(moreFrmMob. ShrAcomOrSglSuplt)10, LS1 3AJ\n",
      "Did you hear about the new \"Divorce Barbie\"? It comes with all of Ken's stuff!\n",
      "Please call our customer service representative on 0800 169 6031 between 10am-9pm as you have WON a guaranteed £1000 cash or £5000 prize!\n",
      "Your free ringtone is waiting to be collected. Simply text the password \"MIX\" to 85069 to verify. Get Usher and Britney. FML, PO Box 5249, MK17 92H. 450Ppw 16\n",
      "GENT! We are trying to contact you. Last weekends draw shows that you won a £1000 prize GUARANTEED. Call 09064012160. Claim Code K52. Valid 12hrs only. 150ppm\n",
      "You are a winner U have been specially selected 2 receive £1000 or a 4* holiday (flights inc) speak to a live operator 2 claim 0871277810910p/min (18+)\n",
      "PRIVATE! Your 2004 Account Statement for 07742676969 shows 786 unredeemed Bonus Points. To claim call 08719180248 Identifier Code: 45239 Expires\n"
     ]
    }
   ],
   "source": [
    "for s in spam_contents[:20]:\n",
    "    print(s)"
   ]
  },
  {
   "cell_type": "code",
   "execution_count": 14,
   "metadata": {},
   "outputs": [
    {
     "name": "stdout",
     "output_type": "stream",
     "text": [
      "spam 메일에서 token 의 개수 : 18821\n",
      "spam 메일에서 apostrophe 개수 :  121\n",
      "spam 메일의 전체 토큰 중 apostrophe의 비율 : 0.6428988895382818\n",
      "[\"c's\", \"08452810075over18's\", \"it's\", \"week's\", \"i'd\", \"ken's\", \"uk's\", \"you'll\", \"haven't\", \"i'm\", \"c's\", \"'help'\", \"c's\", \"uk's\", \"today's\", \"t's\", \"c's\", \"i'm\", \"i'm\", \"we'll\", \"c's\", \"moon's\", \"today's\", \"1000's\", \"u've\", \"don't\", \"don't\", \"don't\", \"let's\", \"1000's\", \"c's\", \"08452810075over18's\", \"c's\", \"'uptown\", \"girl'\", \"80's\", \"george's\", \"u've\", \"month's\", \"we'll\", \"t's\", \"c's\", \"uk's\", \"'help'\", \"b'tooth\", \"u've\", \"c's\", \"there's\", \"george's\", \"i'm\", \"'\", \"don't\", \"don't\", \"let's\", \"i'm\", \"t's\", \"c's\", \"uk's\", \"uk's\", \"don't\", \"don't\", \"let's\", \"t's\", \"c's\", \"\\x93it's\", \"you've\", \"c's\", \"you're\", \"you've\", \"'help'\", \"c's\", \"you've\", \"uk's\", \"rct'\", \"let's\", \"i'm\", \"won't\", \"t's\", \"c's\", \"they're\", \"100's\", \"valentine's\", \"won't\", \"it's\", \"it's\", \"you've\", \"you're\", \"moon's\", \"don't\", \"weekend's\", \"i've\", \"i'm\", \"can't\", \"'help'\", \"week's\", \"u've\", \"uk's\", \"today's\", \"i'm\", \"t's\", \"c's\", \"there's\", \"there's\", \"there's\", \"don't\", \"don't\", \"hubby's\", \"t's\", \"c's\", \"unicef's\", \"u've\", \"i'd\", \"won't\", \"it's\", \"it's\", \"moon's\", \"c's\", \"don't\", \"weekend's\", \"t's\", \"c's\"]\n"
     ]
    }
   ],
   "source": [
    "# 구두점 특히 '(어퍼스트로피) 가 스팸메일에 얼마나 들어가고 주로 어떻게 사용되는지 확인해보기 (구두점이 실제 스팸 메일을 구별하는데 필요한지 확인하기 위함)\n",
    "# 구두점을 살리는 토크나이저로 가져와보기  -> tensorflow 의 keras 사용 \n",
    "\n",
    "from tensorflow.keras.preprocessing.text import text_to_word_sequence\n",
    "\n",
    "\n",
    "apost = []\n",
    "all_word_counts = 0 \n",
    "\n",
    "for contents in spam_contents:\n",
    "    tokens = text_to_word_sequence(contents)\n",
    "    all_word_counts+=len(tokens)\n",
    "    for t in tokens : \n",
    "        if \"'\" in t: \n",
    "            apost.append(t)\n",
    "\n",
    "print(\"spam 메일에서 token 의 개수 :\", all_word_counts)\n",
    "print(\"spam 메일에서 apostrophe 개수 : \", len(apost))\n",
    "print(\"spam 메일의 전체 토큰 중 apostrophe의 비율 :\", (len(apost) / all_word_counts) * 100)\n",
    "print(apost)"
   ]
  },
  {
   "cell_type": "markdown",
   "metadata": {},
   "source": [
    "[의견]\n",
    "\n",
    "spam 메일에서 apostrophe를 가지고 있는 토큰의 비율은 0.64%로 적은 편이며 단어를 살펴봤을 때 중요한 단어는 없는 것으로 판단. (URGENT, PRIVATE, free ..)\n",
    "\n",
    "spam 메일에서 apostrophe는 삭제해도 무방할 것 같지만..? 실제 햄메일에서는 apostrophe가 중요한 역할을 할 수도 있으므로 확인 필요 \n",
    "\n",
    "햄메일에서도 그닥 중요한 역할을 하지 않는다면 apostrophe는 굳이 포함하지 않는 torchtext 를 사용해도 될 것 같다. \n"
   ]
  },
  {
   "cell_type": "code",
   "execution_count": null,
   "metadata": {},
   "outputs": [],
   "source": []
  },
  {
   "cell_type": "code",
   "execution_count": 67,
   "metadata": {},
   "outputs": [
    {
     "name": "stdout",
     "output_type": "stream",
     "text": [
      "[\"c's\", \"08452810075over18's\", \"it's\", \"week's\", \"i'd\", \"ken's\", \"uk's\", \"you'll\", \"haven't\", \"i'm\", \"c's\", \"'help'\", \"c's\", \"uk's\", \"today's\", \"t's\", \"c's\", \"i'm\", \"i'm\", \"we'll\", \"c's\", \"moon's\", \"today's\", \"1000's\", \"u've\", \"don't\", \"don't\", \"don't\", \"let's\", \"1000's\", \"c's\", \"08452810075over18's\", \"c's\", \"'uptown\", \"girl'\", \"80's\", \"george's\", \"u've\", \"month's\", \"we'll\", \"t's\", \"c's\", \"uk's\", \"'help'\", \"b'tooth\", \"u've\", \"c's\", \"there's\", \"george's\", \"i'm\", \"'\", \"don't\", \"don't\", \"let's\", \"i'm\", \"t's\", \"c's\", \"uk's\", \"uk's\", \"don't\", \"don't\", \"let's\", \"t's\", \"c's\", \"\\x93it's\", \"you've\", \"c's\", \"you're\", \"you've\", \"'help'\", \"c's\", \"you've\", \"uk's\", \"rct'\", \"let's\", \"i'm\", \"won't\", \"t's\", \"c's\", \"they're\", \"100's\", \"valentine's\", \"won't\", \"it's\", \"it's\", \"you've\", \"you're\", \"moon's\", \"don't\", \"weekend's\", \"i've\", \"i'm\", \"can't\", \"'help'\", \"week's\", \"u've\", \"uk's\", \"today's\", \"i'm\", \"t's\", \"c's\", \"there's\", \"there's\", \"there's\", \"don't\", \"don't\", \"hubby's\", \"t's\", \"c's\", \"unicef's\", \"u've\", \"i'd\", \"won't\", \"it's\", \"it's\", \"moon's\", \"c's\", \"don't\", \"weekend's\", \"t's\", \"c's\"]\n"
     ]
    }
   ],
   "source": [
    "print(apost) \n",
    "\n",
    "\n",
    "# 스팸메일에서 apostrophe의 개수는 121개로 전체 스팸메일이 747개니까 .. \n"
   ]
  },
  {
   "cell_type": "code",
   "execution_count": null,
   "metadata": {},
   "outputs": [],
   "source": []
  }
 ],
 "metadata": {
  "kernelspec": {
   "display_name": "Python 3",
   "language": "python",
   "name": "python3"
  },
  "language_info": {
   "codemirror_mode": {
    "name": "ipython",
    "version": 3
   },
   "file_extension": ".py",
   "mimetype": "text/x-python",
   "name": "python",
   "nbconvert_exporter": "python",
   "pygments_lexer": "ipython3",
   "version": "3.11.2"
  }
 },
 "nbformat": 4,
 "nbformat_minor": 2
}
